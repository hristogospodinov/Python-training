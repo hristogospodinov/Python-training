{
 "cells": [
  {
   "cell_type": "markdown",
   "id": "f6e85d50",
   "metadata": {},
   "source": [
    "# This is a level 1 heading\n",
    "\n",
    "## This is a level 2 heading\n",
    "\n",
    "This is some plain text that forms a paragraph. Add emphasis via **bold** and __bold__, or *italic* and _italic_.\n",
    "\n",
    "Paragraphs must be separated by an empty line.\n",
    "\n",
    "* Sometimes we want to include lists.\n",
    "* Which can be bulleted using asterisks.\n",
    "\n",
    "1. Lists can also be numbered.\n",
    "2. If we want an ordered list.\n",
    "\n",
    "[We can include hyperlinks](https://www.google.com)\n",
    "\n",
    "Inline code uses single backticks: `foo()`, and code blocks use triple backticks:\n",
    "```\n",
    "bar()\n",
    "```\n",
    "Or can be indented by 4 spaces:\n",
    "    bar()\n",
    "\n",
    "And finally, adding images: ![Alt text](https://www.example.com/image.jpg)"
   ]
  },
  {
   "cell_type": "markdown",
   "id": "e4016914",
   "metadata": {},
   "source": [
    "# Python Object and Data Structure Basics"
   ]
  },
  {
   "cell_type": "markdown",
   "id": "098f8c30",
   "metadata": {},
   "source": [
    "## Python Numbers"
   ]
  },
  {
   "cell_type": "code",
   "execution_count": 4,
   "id": "109d9529",
   "metadata": {
    "scrolled": true
   },
   "outputs": [
    {
     "data": {
      "text/plain": [
       "4"
      ]
     },
     "execution_count": 4,
     "metadata": {},
     "output_type": "execute_result"
    }
   ],
   "source": [
    "2+2"
   ]
  },
  {
   "cell_type": "code",
   "execution_count": 5,
   "id": "751dfb28",
   "metadata": {},
   "outputs": [
    {
     "data": {
      "text/plain": [
       "1"
      ]
     },
     "execution_count": 5,
     "metadata": {},
     "output_type": "execute_result"
    }
   ],
   "source": [
    "2-1"
   ]
  },
  {
   "cell_type": "code",
   "execution_count": 6,
   "id": "ad0a4115",
   "metadata": {},
   "outputs": [
    {
     "data": {
      "text/plain": [
       "4"
      ]
     },
     "execution_count": 6,
     "metadata": {},
     "output_type": "execute_result"
    }
   ],
   "source": [
    "2*2"
   ]
  },
  {
   "cell_type": "code",
   "execution_count": 7,
   "id": "66757444",
   "metadata": {},
   "outputs": [
    {
     "data": {
      "text/plain": [
       "1.5"
      ]
     },
     "execution_count": 7,
     "metadata": {},
     "output_type": "execute_result"
    }
   ],
   "source": [
    "3/2"
   ]
  },
  {
   "cell_type": "code",
   "execution_count": 8,
   "id": "6b21c36e",
   "metadata": {},
   "outputs": [
    {
     "data": {
      "text/plain": [
       "3"
      ]
     },
     "execution_count": 8,
     "metadata": {},
     "output_type": "execute_result"
    }
   ],
   "source": [
    "7 % 4"
   ]
  },
  {
   "cell_type": "code",
   "execution_count": null,
   "id": "b0faaaf0",
   "metadata": {},
   "outputs": [],
   "source": []
  },
  {
   "cell_type": "markdown",
   "id": "fae65c39",
   "metadata": {},
   "source": [
    "## Variable assignments"
   ]
  },
  {
   "cell_type": "code",
   "execution_count": 12,
   "id": "ec85d98a",
   "metadata": {},
   "outputs": [],
   "source": [
    "a = 10"
   ]
  },
  {
   "cell_type": "code",
   "execution_count": 13,
   "id": "ff18bf23",
   "metadata": {},
   "outputs": [],
   "source": [
    "a = a + a"
   ]
  },
  {
   "cell_type": "code",
   "execution_count": 14,
   "id": "fddb213c",
   "metadata": {},
   "outputs": [
    {
     "data": {
      "text/plain": [
       "20"
      ]
     },
     "execution_count": 14,
     "metadata": {},
     "output_type": "execute_result"
    }
   ],
   "source": [
    "a"
   ]
  },
  {
   "cell_type": "code",
   "execution_count": 15,
   "id": "2e729ad4",
   "metadata": {},
   "outputs": [
    {
     "data": {
      "text/plain": [
       "int"
      ]
     },
     "execution_count": 15,
     "metadata": {},
     "output_type": "execute_result"
    }
   ],
   "source": [
    "type(a)"
   ]
  },
  {
   "cell_type": "code",
   "execution_count": 16,
   "id": "25947225",
   "metadata": {},
   "outputs": [],
   "source": [
    "a = 30.1"
   ]
  },
  {
   "cell_type": "code",
   "execution_count": 17,
   "id": "cb75fb84",
   "metadata": {},
   "outputs": [
    {
     "data": {
      "text/plain": [
       "float"
      ]
     },
     "execution_count": 17,
     "metadata": {},
     "output_type": "execute_result"
    }
   ],
   "source": [
    "type(a)"
   ]
  },
  {
   "cell_type": "markdown",
   "id": "a9f1b8a6",
   "metadata": {},
   "source": [
    "## Strings"
   ]
  },
  {
   "cell_type": "code",
   "execution_count": 20,
   "id": "c4f9b044",
   "metadata": {},
   "outputs": [
    {
     "data": {
      "text/plain": [
       "'hello'"
      ]
     },
     "execution_count": 20,
     "metadata": {},
     "output_type": "execute_result"
    }
   ],
   "source": [
    "'hello'"
   ]
  },
  {
   "cell_type": "code",
   "execution_count": 21,
   "id": "6216b037",
   "metadata": {},
   "outputs": [
    {
     "data": {
      "text/plain": [
       "'hello'"
      ]
     },
     "execution_count": 21,
     "metadata": {},
     "output_type": "execute_result"
    }
   ],
   "source": [
    "\"hello\""
   ]
  },
  {
   "cell_type": "code",
   "execution_count": 22,
   "id": "20281570",
   "metadata": {},
   "outputs": [
    {
     "data": {
      "text/plain": [
       "'this is also a string'"
      ]
     },
     "execution_count": 22,
     "metadata": {},
     "output_type": "execute_result"
    }
   ],
   "source": [
    "'this is also a string'"
   ]
  },
  {
   "cell_type": "code",
   "execution_count": 23,
   "id": "d3901d54",
   "metadata": {},
   "outputs": [
    {
     "name": "stdout",
     "output_type": "stream",
     "text": [
      "hello\n"
     ]
    }
   ],
   "source": [
    "print('hello')"
   ]
  },
  {
   "cell_type": "code",
   "execution_count": 24,
   "id": "b6972f4b",
   "metadata": {},
   "outputs": [
    {
     "name": "stdout",
     "output_type": "stream",
     "text": [
      "hello \n",
      "world\n"
     ]
    }
   ],
   "source": [
    "print('hello \\nworld')"
   ]
  },
  {
   "cell_type": "code",
   "execution_count": 25,
   "id": "bfbac2ec",
   "metadata": {},
   "outputs": [
    {
     "name": "stdout",
     "output_type": "stream",
     "text": [
      "hello \tworld\n"
     ]
    }
   ],
   "source": [
    "print('hello \\tworld')"
   ]
  },
  {
   "cell_type": "code",
   "execution_count": 26,
   "id": "a9396388",
   "metadata": {},
   "outputs": [
    {
     "data": {
      "text/plain": [
       "5"
      ]
     },
     "execution_count": 26,
     "metadata": {},
     "output_type": "execute_result"
    }
   ],
   "source": [
    "len('hello')"
   ]
  },
  {
   "cell_type": "code",
   "execution_count": 27,
   "id": "6ee6c164",
   "metadata": {},
   "outputs": [],
   "source": [
    "mystring = \"Hello World\""
   ]
  },
  {
   "cell_type": "code",
   "execution_count": 28,
   "id": "1958d3de",
   "metadata": {},
   "outputs": [
    {
     "data": {
      "text/plain": [
       "'Hello World'"
      ]
     },
     "execution_count": 28,
     "metadata": {},
     "output_type": "execute_result"
    }
   ],
   "source": [
    "mystring"
   ]
  },
  {
   "cell_type": "code",
   "execution_count": 30,
   "id": "220232ef",
   "metadata": {},
   "outputs": [
    {
     "data": {
      "text/plain": [
       "'H'"
      ]
     },
     "execution_count": 30,
     "metadata": {},
     "output_type": "execute_result"
    }
   ],
   "source": [
    "mystring[0]"
   ]
  },
  {
   "cell_type": "code",
   "execution_count": 31,
   "id": "f2ee4c71",
   "metadata": {},
   "outputs": [
    {
     "data": {
      "text/plain": [
       "'r'"
      ]
     },
     "execution_count": 31,
     "metadata": {},
     "output_type": "execute_result"
    }
   ],
   "source": [
    "mystring[8]"
   ]
  },
  {
   "cell_type": "code",
   "execution_count": 32,
   "id": "87064261",
   "metadata": {},
   "outputs": [
    {
     "data": {
      "text/plain": [
       "'r'"
      ]
     },
     "execution_count": 32,
     "metadata": {},
     "output_type": "execute_result"
    }
   ],
   "source": [
    "mystring[-3]"
   ]
  },
  {
   "cell_type": "code",
   "execution_count": 33,
   "id": "8ddfc077",
   "metadata": {},
   "outputs": [],
   "source": [
    "mystring = 'abcdefghijk'"
   ]
  },
  {
   "cell_type": "code",
   "execution_count": 34,
   "id": "7cc4bc48",
   "metadata": {},
   "outputs": [
    {
     "data": {
      "text/plain": [
       "'cdefghijk'"
      ]
     },
     "execution_count": 34,
     "metadata": {},
     "output_type": "execute_result"
    }
   ],
   "source": [
    "mystring[2:]"
   ]
  },
  {
   "cell_type": "code",
   "execution_count": 35,
   "id": "e52f18f3",
   "metadata": {},
   "outputs": [
    {
     "data": {
      "text/plain": [
       "'abc'"
      ]
     },
     "execution_count": 35,
     "metadata": {},
     "output_type": "execute_result"
    }
   ],
   "source": [
    "mystring[:3]"
   ]
  },
  {
   "cell_type": "code",
   "execution_count": 36,
   "id": "d9c026d8",
   "metadata": {},
   "outputs": [
    {
     "data": {
      "text/plain": [
       "'cde'"
      ]
     },
     "execution_count": 36,
     "metadata": {},
     "output_type": "execute_result"
    }
   ],
   "source": [
    "mystring[2:5]"
   ]
  },
  {
   "cell_type": "code",
   "execution_count": 38,
   "id": "6a7a7aca",
   "metadata": {},
   "outputs": [
    {
     "data": {
      "text/plain": [
       "'ceg'"
      ]
     },
     "execution_count": 38,
     "metadata": {},
     "output_type": "execute_result"
    }
   ],
   "source": [
    "mystring[2:8:2]"
   ]
  },
  {
   "cell_type": "code",
   "execution_count": 40,
   "id": "abc27109",
   "metadata": {},
   "outputs": [
    {
     "data": {
      "text/plain": [
       "'ige'"
      ]
     },
     "execution_count": 40,
     "metadata": {},
     "output_type": "execute_result"
    }
   ],
   "source": [
    "mystring[8:2:-2]"
   ]
  },
  {
   "cell_type": "code",
   "execution_count": 41,
   "id": "90da777f",
   "metadata": {},
   "outputs": [
    {
     "data": {
      "text/plain": [
       "'acegik'"
      ]
     },
     "execution_count": 41,
     "metadata": {},
     "output_type": "execute_result"
    }
   ],
   "source": [
    "mystring[::2]"
   ]
  },
  {
   "cell_type": "code",
   "execution_count": 42,
   "id": "f5a78519",
   "metadata": {},
   "outputs": [
    {
     "data": {
      "text/plain": [
       "'kjihgfedcba'"
      ]
     },
     "execution_count": 42,
     "metadata": {},
     "output_type": "execute_result"
    }
   ],
   "source": [
    "mystring[::-1]"
   ]
  },
  {
   "cell_type": "markdown",
   "id": "77822b21",
   "metadata": {},
   "source": [
    "String formatting"
   ]
  },
  {
   "cell_type": "code",
   "execution_count": 45,
   "id": "ad5555ad",
   "metadata": {},
   "outputs": [
    {
     "name": "stdout",
     "output_type": "stream",
     "text": [
      "This is a string INSERTED\n"
     ]
    }
   ],
   "source": [
    "print('This is a string {}'.format('INSERTED'))"
   ]
  },
  {
   "cell_type": "code",
   "execution_count": 48,
   "id": "3c480412",
   "metadata": {},
   "outputs": [
    {
     "name": "stdout",
     "output_type": "stream",
     "text": [
      "The quick fox brown\n"
     ]
    }
   ],
   "source": [
    "print('The {2} {0} {1}'.format('fox','brown','quick'))"
   ]
  },
  {
   "cell_type": "code",
   "execution_count": 49,
   "id": "71d568c9",
   "metadata": {},
   "outputs": [
    {
     "name": "stdout",
     "output_type": "stream",
     "text": [
      "The quick brown fox\n"
     ]
    }
   ],
   "source": [
    "print('The {q} {b} {f}'.format(f='fox',b='brown',q='quick'))"
   ]
  },
  {
   "cell_type": "code",
   "execution_count": 50,
   "id": "5470aefe",
   "metadata": {},
   "outputs": [],
   "source": [
    "result = 100/777"
   ]
  },
  {
   "cell_type": "code",
   "execution_count": 51,
   "id": "ca17e144",
   "metadata": {},
   "outputs": [
    {
     "data": {
      "text/plain": [
       "0.1287001287001287"
      ]
     },
     "execution_count": 51,
     "metadata": {},
     "output_type": "execute_result"
    }
   ],
   "source": [
    "result"
   ]
  },
  {
   "cell_type": "code",
   "execution_count": 53,
   "id": "130e8dde",
   "metadata": {},
   "outputs": [
    {
     "name": "stdout",
     "output_type": "stream",
     "text": [
      "The result was 0.129\n"
     ]
    }
   ],
   "source": [
    "print(\"The result was {r:1.3f}\".format(r=result))"
   ]
  },
  {
   "cell_type": "code",
   "execution_count": 54,
   "id": "afe2bed1",
   "metadata": {},
   "outputs": [
    {
     "name": "stdout",
     "output_type": "stream",
     "text": [
      "The result was      0.129\n"
     ]
    }
   ],
   "source": [
    "print(\"The result was {r:10.3f}\".format(r=result))"
   ]
  },
  {
   "cell_type": "code",
   "execution_count": 55,
   "id": "5710b16d",
   "metadata": {},
   "outputs": [
    {
     "name": "stdout",
     "output_type": "stream",
     "text": [
      "The result was 0.12870\n"
     ]
    }
   ],
   "source": [
    "print(\"The result was {r:1.5f}\".format(r=result))"
   ]
  },
  {
   "cell_type": "code",
   "execution_count": 56,
   "id": "7f3e938e",
   "metadata": {},
   "outputs": [],
   "source": [
    "name = \"Chris\""
   ]
  },
  {
   "cell_type": "code",
   "execution_count": 57,
   "id": "728de1d1",
   "metadata": {},
   "outputs": [
    {
     "name": "stdout",
     "output_type": "stream",
     "text": [
      "Hello, his name is Chris\n"
     ]
    }
   ],
   "source": [
    "print(f'Hello, his name is {name}')"
   ]
  },
  {
   "cell_type": "code",
   "execution_count": 58,
   "id": "943d0276",
   "metadata": {},
   "outputs": [],
   "source": [
    "name = 'Sam'\n",
    "age = 3"
   ]
  },
  {
   "cell_type": "code",
   "execution_count": 59,
   "id": "b7fda5fa",
   "metadata": {},
   "outputs": [
    {
     "name": "stdout",
     "output_type": "stream",
     "text": [
      "Sam is 3 years old.\n"
     ]
    }
   ],
   "source": [
    "print(f'{name} is {age} years old.')"
   ]
  },
  {
   "cell_type": "markdown",
   "id": "54b804b7",
   "metadata": {},
   "source": [
    "## LISTS"
   ]
  },
  {
   "cell_type": "code",
   "execution_count": 61,
   "id": "9066ee9b",
   "metadata": {},
   "outputs": [],
   "source": [
    "my_list = [1,2,3]"
   ]
  },
  {
   "cell_type": "code",
   "execution_count": 62,
   "id": "ee8267d4",
   "metadata": {},
   "outputs": [],
   "source": [
    "my_list = ['STRING', 100, 23.2]"
   ]
  },
  {
   "cell_type": "code",
   "execution_count": 63,
   "id": "f9cb1223",
   "metadata": {},
   "outputs": [
    {
     "data": {
      "text/plain": [
       "['STRING', 100, 23.2]"
      ]
     },
     "execution_count": 63,
     "metadata": {},
     "output_type": "execute_result"
    }
   ],
   "source": [
    "my_list"
   ]
  },
  {
   "cell_type": "code",
   "execution_count": 64,
   "id": "57396be2",
   "metadata": {},
   "outputs": [
    {
     "data": {
      "text/plain": [
       "3"
      ]
     },
     "execution_count": 64,
     "metadata": {},
     "output_type": "execute_result"
    }
   ],
   "source": [
    "len(my_list)"
   ]
  },
  {
   "cell_type": "code",
   "execution_count": 65,
   "id": "c49f3a9c",
   "metadata": {},
   "outputs": [],
   "source": [
    "my_list = ['one', 'two', 'three']"
   ]
  },
  {
   "cell_type": "code",
   "execution_count": 66,
   "id": "60549077",
   "metadata": {},
   "outputs": [
    {
     "data": {
      "text/plain": [
       "'one'"
      ]
     },
     "execution_count": 66,
     "metadata": {},
     "output_type": "execute_result"
    }
   ],
   "source": [
    "my_list[0]"
   ]
  },
  {
   "cell_type": "code",
   "execution_count": 67,
   "id": "6a8a2f3b",
   "metadata": {},
   "outputs": [
    {
     "data": {
      "text/plain": [
       "['two', 'three']"
      ]
     },
     "execution_count": 67,
     "metadata": {},
     "output_type": "execute_result"
    }
   ],
   "source": [
    "my_list[1:]"
   ]
  },
  {
   "cell_type": "code",
   "execution_count": 68,
   "id": "4ab66b97",
   "metadata": {},
   "outputs": [],
   "source": [
    "another_list = ['four', 'five']"
   ]
  },
  {
   "cell_type": "code",
   "execution_count": 69,
   "id": "ce75e772",
   "metadata": {},
   "outputs": [
    {
     "data": {
      "text/plain": [
       "['one', 'two', 'three', 'four', 'five']"
      ]
     },
     "execution_count": 69,
     "metadata": {},
     "output_type": "execute_result"
    }
   ],
   "source": [
    "my_list + another_list"
   ]
  },
  {
   "cell_type": "code",
   "execution_count": 70,
   "id": "232d9d85",
   "metadata": {},
   "outputs": [],
   "source": [
    "new_list = my_list + another_list"
   ]
  },
  {
   "cell_type": "code",
   "execution_count": 71,
   "id": "f3510c1c",
   "metadata": {},
   "outputs": [],
   "source": [
    "new_list[0] = 'ONE ALL CAPS'"
   ]
  },
  {
   "cell_type": "code",
   "execution_count": 72,
   "id": "fea7b1e5",
   "metadata": {},
   "outputs": [
    {
     "data": {
      "text/plain": [
       "['ONE ALL CAPS', 'two', 'three', 'four', 'five']"
      ]
     },
     "execution_count": 72,
     "metadata": {},
     "output_type": "execute_result"
    }
   ],
   "source": [
    "new_list"
   ]
  },
  {
   "cell_type": "code",
   "execution_count": 74,
   "id": "86de6a66",
   "metadata": {},
   "outputs": [],
   "source": [
    "new_list.append('six')"
   ]
  },
  {
   "cell_type": "code",
   "execution_count": 75,
   "id": "fa7a0d3d",
   "metadata": {},
   "outputs": [
    {
     "data": {
      "text/plain": [
       "['ONE ALL CAPS', 'two', 'three', 'four', 'five', 'six']"
      ]
     },
     "execution_count": 75,
     "metadata": {},
     "output_type": "execute_result"
    }
   ],
   "source": [
    "new_list"
   ]
  },
  {
   "cell_type": "code",
   "execution_count": 76,
   "id": "6f88908a",
   "metadata": {},
   "outputs": [],
   "source": [
    "new_list.append('seven')"
   ]
  },
  {
   "cell_type": "code",
   "execution_count": 77,
   "id": "4d62ec97",
   "metadata": {},
   "outputs": [
    {
     "data": {
      "text/plain": [
       "['ONE ALL CAPS', 'two', 'three', 'four', 'five', 'six', 'seven']"
      ]
     },
     "execution_count": 77,
     "metadata": {},
     "output_type": "execute_result"
    }
   ],
   "source": [
    "new_list"
   ]
  },
  {
   "cell_type": "code",
   "execution_count": 78,
   "id": "a27c07fc",
   "metadata": {},
   "outputs": [
    {
     "data": {
      "text/plain": [
       "'seven'"
      ]
     },
     "execution_count": 78,
     "metadata": {},
     "output_type": "execute_result"
    }
   ],
   "source": [
    "new_list.pop()"
   ]
  },
  {
   "cell_type": "code",
   "execution_count": 79,
   "id": "3162355d",
   "metadata": {},
   "outputs": [
    {
     "data": {
      "text/plain": [
       "['ONE ALL CAPS', 'two', 'three', 'four', 'five', 'six']"
      ]
     },
     "execution_count": 79,
     "metadata": {},
     "output_type": "execute_result"
    }
   ],
   "source": [
    "new_list"
   ]
  },
  {
   "cell_type": "code",
   "execution_count": 80,
   "id": "714fe44a",
   "metadata": {},
   "outputs": [],
   "source": [
    "popped_item = new_list.pop()"
   ]
  },
  {
   "cell_type": "code",
   "execution_count": 81,
   "id": "fae2994e",
   "metadata": {},
   "outputs": [
    {
     "data": {
      "text/plain": [
       "'six'"
      ]
     },
     "execution_count": 81,
     "metadata": {},
     "output_type": "execute_result"
    }
   ],
   "source": [
    "popped_item"
   ]
  },
  {
   "cell_type": "code",
   "execution_count": 82,
   "id": "12f9ec35",
   "metadata": {},
   "outputs": [
    {
     "data": {
      "text/plain": [
       "['ONE ALL CAPS', 'two', 'three', 'four', 'five']"
      ]
     },
     "execution_count": 82,
     "metadata": {},
     "output_type": "execute_result"
    }
   ],
   "source": [
    "new_list"
   ]
  },
  {
   "cell_type": "code",
   "execution_count": 83,
   "id": "a4eefa1c",
   "metadata": {},
   "outputs": [
    {
     "data": {
      "text/plain": [
       "'ONE ALL CAPS'"
      ]
     },
     "execution_count": 83,
     "metadata": {},
     "output_type": "execute_result"
    }
   ],
   "source": [
    "new_list.pop(0)"
   ]
  },
  {
   "cell_type": "code",
   "execution_count": 84,
   "id": "91c03782",
   "metadata": {},
   "outputs": [
    {
     "data": {
      "text/plain": [
       "['two', 'three', 'four', 'five']"
      ]
     },
     "execution_count": 84,
     "metadata": {},
     "output_type": "execute_result"
    }
   ],
   "source": [
    "new_list"
   ]
  },
  {
   "cell_type": "code",
   "execution_count": 85,
   "id": "b88c0d78",
   "metadata": {},
   "outputs": [],
   "source": [
    "new_list = ['a','e','x', 'b','c']\n",
    "num_list = [4,1,8,3]"
   ]
  },
  {
   "cell_type": "code",
   "execution_count": 86,
   "id": "c83a90ed",
   "metadata": {},
   "outputs": [],
   "source": [
    "new_list.sort()"
   ]
  },
  {
   "cell_type": "code",
   "execution_count": 87,
   "id": "5af45656",
   "metadata": {},
   "outputs": [
    {
     "data": {
      "text/plain": [
       "['a', 'b', 'c', 'e', 'x']"
      ]
     },
     "execution_count": 87,
     "metadata": {},
     "output_type": "execute_result"
    }
   ],
   "source": [
    "new_list"
   ]
  },
  {
   "cell_type": "code",
   "execution_count": 88,
   "id": "a21d81be",
   "metadata": {},
   "outputs": [],
   "source": [
    "new_list.sort()\n",
    "my_sorted_list = new_list"
   ]
  },
  {
   "cell_type": "code",
   "execution_count": 89,
   "id": "849e3085",
   "metadata": {},
   "outputs": [
    {
     "data": {
      "text/plain": [
       "['a', 'b', 'c', 'e', 'x']"
      ]
     },
     "execution_count": 89,
     "metadata": {},
     "output_type": "execute_result"
    }
   ],
   "source": [
    "my_sorted_list"
   ]
  },
  {
   "cell_type": "code",
   "execution_count": 90,
   "id": "c594a797",
   "metadata": {},
   "outputs": [
    {
     "data": {
      "text/plain": [
       "[4, 1, 8, 3]"
      ]
     },
     "execution_count": 90,
     "metadata": {},
     "output_type": "execute_result"
    }
   ],
   "source": [
    "num_list"
   ]
  },
  {
   "cell_type": "code",
   "execution_count": 91,
   "id": "57f7f4c3",
   "metadata": {},
   "outputs": [],
   "source": [
    "num_list.sort()"
   ]
  },
  {
   "cell_type": "code",
   "execution_count": 92,
   "id": "5d17a8d3",
   "metadata": {},
   "outputs": [
    {
     "data": {
      "text/plain": [
       "[1, 3, 4, 8]"
      ]
     },
     "execution_count": 92,
     "metadata": {},
     "output_type": "execute_result"
    }
   ],
   "source": [
    "num_list"
   ]
  },
  {
   "cell_type": "code",
   "execution_count": 93,
   "id": "4564ccc2",
   "metadata": {},
   "outputs": [],
   "source": [
    "num_list.reverse()"
   ]
  },
  {
   "cell_type": "code",
   "execution_count": 94,
   "id": "29b5c296",
   "metadata": {},
   "outputs": [
    {
     "data": {
      "text/plain": [
       "[8, 4, 3, 1]"
      ]
     },
     "execution_count": 94,
     "metadata": {},
     "output_type": "execute_result"
    }
   ],
   "source": [
    "num_list"
   ]
  },
  {
   "cell_type": "markdown",
   "id": "cb0da118",
   "metadata": {},
   "source": [
    "## Dictionaries\n",
    "\n",
    "Use curly braces and colons to signify the keys and their associated values.\n",
    "\n",
    "    {'key1':'value1', 'key2': 'value2'}\n",
    "    \n",
    "* **Dictionaries**: Objects retried by key name\n",
    "\n",
    "Unordered and can not be sorted.\n",
    "* **Lists**: Objects retried by location.\n",
    "\n",
    "Ordered Sequence can be indexed or sliced."
   ]
  },
  {
   "cell_type": "code",
   "execution_count": 96,
   "id": "845621e2",
   "metadata": {},
   "outputs": [],
   "source": [
    "my_dict = {'key1':'value1', 'key2': 'value2'}"
   ]
  },
  {
   "cell_type": "code",
   "execution_count": 97,
   "id": "81308953",
   "metadata": {},
   "outputs": [
    {
     "data": {
      "text/plain": [
       "{'key1': 'value1', 'key2': 'value2'}"
      ]
     },
     "execution_count": 97,
     "metadata": {},
     "output_type": "execute_result"
    }
   ],
   "source": [
    "my_dict"
   ]
  },
  {
   "cell_type": "code",
   "execution_count": 98,
   "id": "ba1a32ae",
   "metadata": {},
   "outputs": [
    {
     "data": {
      "text/plain": [
       "'value1'"
      ]
     },
     "execution_count": 98,
     "metadata": {},
     "output_type": "execute_result"
    }
   ],
   "source": [
    "my_dict['key1']"
   ]
  },
  {
   "cell_type": "code",
   "execution_count": 99,
   "id": "167a8187",
   "metadata": {},
   "outputs": [],
   "source": [
    "prices_lookup = {'apple': 2.99, 'oranges': 1.99, 'milk': 5.80}"
   ]
  },
  {
   "cell_type": "code",
   "execution_count": 100,
   "id": "a9ce628e",
   "metadata": {},
   "outputs": [
    {
     "data": {
      "text/plain": [
       "2.99"
      ]
     },
     "execution_count": 100,
     "metadata": {},
     "output_type": "execute_result"
    }
   ],
   "source": [
    "prices_lookup['apple']"
   ]
  },
  {
   "cell_type": "code",
   "execution_count": 101,
   "id": "00b532a2",
   "metadata": {},
   "outputs": [],
   "source": [
    "d = {'k1': 123, 'k2': [0,1,2], 'k3': {'insideKey': 100}}"
   ]
  },
  {
   "cell_type": "code",
   "execution_count": 102,
   "id": "ee206a8c",
   "metadata": {},
   "outputs": [
    {
     "data": {
      "text/plain": [
       "[0, 1, 2]"
      ]
     },
     "execution_count": 102,
     "metadata": {},
     "output_type": "execute_result"
    }
   ],
   "source": [
    "d['k2']"
   ]
  },
  {
   "cell_type": "code",
   "execution_count": 103,
   "id": "eba9c4a3",
   "metadata": {},
   "outputs": [
    {
     "data": {
      "text/plain": [
       "{'insideKey': 100}"
      ]
     },
     "execution_count": 103,
     "metadata": {},
     "output_type": "execute_result"
    }
   ],
   "source": [
    "d['k3']"
   ]
  },
  {
   "cell_type": "code",
   "execution_count": 104,
   "id": "0814b0e0",
   "metadata": {},
   "outputs": [
    {
     "data": {
      "text/plain": [
       "100"
      ]
     },
     "execution_count": 104,
     "metadata": {},
     "output_type": "execute_result"
    }
   ],
   "source": [
    "d['k3']['insideKey']"
   ]
  },
  {
   "cell_type": "code",
   "execution_count": 105,
   "id": "333e62b4",
   "metadata": {},
   "outputs": [],
   "source": [
    "d = {'key1': ['a','b','c']}"
   ]
  },
  {
   "cell_type": "code",
   "execution_count": 106,
   "id": "8e135b56",
   "metadata": {},
   "outputs": [
    {
     "data": {
      "text/plain": [
       "'C'"
      ]
     },
     "execution_count": 106,
     "metadata": {},
     "output_type": "execute_result"
    }
   ],
   "source": [
    "d['key1'][2].upper()"
   ]
  },
  {
   "cell_type": "code",
   "execution_count": 107,
   "id": "ff847ffc",
   "metadata": {},
   "outputs": [],
   "source": [
    "d = {'k1': 100,'k2': 200}"
   ]
  },
  {
   "cell_type": "code",
   "execution_count": 108,
   "id": "719721f9",
   "metadata": {},
   "outputs": [
    {
     "data": {
      "text/plain": [
       "{'k1': 100, 'k2': 200}"
      ]
     },
     "execution_count": 108,
     "metadata": {},
     "output_type": "execute_result"
    }
   ],
   "source": [
    "d"
   ]
  },
  {
   "cell_type": "code",
   "execution_count": 109,
   "id": "22b0b299",
   "metadata": {},
   "outputs": [],
   "source": [
    "d['k3'] = 300"
   ]
  },
  {
   "cell_type": "code",
   "execution_count": 110,
   "id": "8a852b41",
   "metadata": {},
   "outputs": [
    {
     "data": {
      "text/plain": [
       "{'k1': 100, 'k2': 200, 'k3': 300}"
      ]
     },
     "execution_count": 110,
     "metadata": {},
     "output_type": "execute_result"
    }
   ],
   "source": [
    "d"
   ]
  },
  {
   "cell_type": "code",
   "execution_count": 111,
   "id": "08d0681c",
   "metadata": {},
   "outputs": [],
   "source": [
    "d['k1'] = 'NEW VALUE'"
   ]
  },
  {
   "cell_type": "code",
   "execution_count": 112,
   "id": "424625ed",
   "metadata": {},
   "outputs": [
    {
     "data": {
      "text/plain": [
       "{'k1': 'NEW VALUE', 'k2': 200, 'k3': 300}"
      ]
     },
     "execution_count": 112,
     "metadata": {},
     "output_type": "execute_result"
    }
   ],
   "source": [
    "d"
   ]
  },
  {
   "cell_type": "code",
   "execution_count": 113,
   "id": "4f63a94a",
   "metadata": {},
   "outputs": [
    {
     "data": {
      "text/plain": [
       "dict_keys(['k1', 'k2', 'k3'])"
      ]
     },
     "execution_count": 113,
     "metadata": {},
     "output_type": "execute_result"
    }
   ],
   "source": [
    "d.keys()"
   ]
  },
  {
   "cell_type": "code",
   "execution_count": 114,
   "id": "da234940",
   "metadata": {},
   "outputs": [
    {
     "data": {
      "text/plain": [
       "dict_values(['NEW VALUE', 200, 300])"
      ]
     },
     "execution_count": 114,
     "metadata": {},
     "output_type": "execute_result"
    }
   ],
   "source": [
    "d.values()"
   ]
  },
  {
   "cell_type": "code",
   "execution_count": 115,
   "id": "57a2a8e2",
   "metadata": {},
   "outputs": [
    {
     "data": {
      "text/plain": [
       "dict_items([('k1', 'NEW VALUE'), ('k2', 200), ('k3', 300)])"
      ]
     },
     "execution_count": 115,
     "metadata": {},
     "output_type": "execute_result"
    }
   ],
   "source": [
    "d.items()"
   ]
  },
  {
   "cell_type": "markdown",
   "id": "82acd0d2",
   "metadata": {},
   "source": [
    "## TUPLES\n",
    "\n",
    "Tuples are very similar to lists. However they have one key difference - **immutability**.\n",
    "\n",
    "Once an element is inside a tuple, it can not be reassigned.\n",
    "\n",
    "Tuples use parenthesis: **(1, 2, 3)**"
   ]
  },
  {
   "cell_type": "code",
   "execution_count": 117,
   "id": "86834695",
   "metadata": {},
   "outputs": [],
   "source": [
    "t = (1,2,3)"
   ]
  },
  {
   "cell_type": "code",
   "execution_count": 118,
   "id": "ecd26803",
   "metadata": {},
   "outputs": [],
   "source": [
    "mylist = [1,2,3]"
   ]
  },
  {
   "cell_type": "code",
   "execution_count": 119,
   "id": "e9296803",
   "metadata": {},
   "outputs": [
    {
     "data": {
      "text/plain": [
       "tuple"
      ]
     },
     "execution_count": 119,
     "metadata": {},
     "output_type": "execute_result"
    }
   ],
   "source": [
    "type(t)"
   ]
  },
  {
   "cell_type": "code",
   "execution_count": 120,
   "id": "d756e69c",
   "metadata": {},
   "outputs": [
    {
     "data": {
      "text/plain": [
       "list"
      ]
     },
     "execution_count": 120,
     "metadata": {},
     "output_type": "execute_result"
    }
   ],
   "source": [
    "type(mylist)"
   ]
  },
  {
   "cell_type": "code",
   "execution_count": 121,
   "id": "8af1237b",
   "metadata": {},
   "outputs": [
    {
     "data": {
      "text/plain": [
       "3"
      ]
     },
     "execution_count": 121,
     "metadata": {},
     "output_type": "execute_result"
    }
   ],
   "source": [
    "len(t)"
   ]
  },
  {
   "cell_type": "code",
   "execution_count": 122,
   "id": "a817fb56",
   "metadata": {},
   "outputs": [
    {
     "data": {
      "text/plain": [
       "(1, 2, 3)"
      ]
     },
     "execution_count": 122,
     "metadata": {},
     "output_type": "execute_result"
    }
   ],
   "source": [
    "t"
   ]
  },
  {
   "cell_type": "code",
   "execution_count": 123,
   "id": "c94ca3a7",
   "metadata": {},
   "outputs": [],
   "source": [
    "t=('one',2)"
   ]
  },
  {
   "cell_type": "code",
   "execution_count": 124,
   "id": "61dde7a0",
   "metadata": {},
   "outputs": [
    {
     "data": {
      "text/plain": [
       "'one'"
      ]
     },
     "execution_count": 124,
     "metadata": {},
     "output_type": "execute_result"
    }
   ],
   "source": [
    "t[0]"
   ]
  },
  {
   "cell_type": "code",
   "execution_count": 125,
   "id": "de9408ef",
   "metadata": {},
   "outputs": [
    {
     "data": {
      "text/plain": [
       "2"
      ]
     },
     "execution_count": 125,
     "metadata": {},
     "output_type": "execute_result"
    }
   ],
   "source": [
    "t[-1]"
   ]
  },
  {
   "cell_type": "code",
   "execution_count": 126,
   "id": "4ba8fdd9",
   "metadata": {},
   "outputs": [],
   "source": [
    "t = ('a','a','b')"
   ]
  },
  {
   "cell_type": "code",
   "execution_count": 127,
   "id": "0994903c",
   "metadata": {},
   "outputs": [
    {
     "data": {
      "text/plain": [
       "2"
      ]
     },
     "execution_count": 127,
     "metadata": {},
     "output_type": "execute_result"
    }
   ],
   "source": [
    "t.count('a')"
   ]
  },
  {
   "cell_type": "code",
   "execution_count": 129,
   "id": "62841d86",
   "metadata": {},
   "outputs": [
    {
     "data": {
      "text/plain": [
       "0"
      ]
     },
     "execution_count": 129,
     "metadata": {},
     "output_type": "execute_result"
    }
   ],
   "source": [
    "t.index('a')"
   ]
  },
  {
   "cell_type": "code",
   "execution_count": 130,
   "id": "ff7bff54",
   "metadata": {},
   "outputs": [
    {
     "data": {
      "text/plain": [
       "2"
      ]
     },
     "execution_count": 130,
     "metadata": {},
     "output_type": "execute_result"
    }
   ],
   "source": [
    "t.index('b')"
   ]
  },
  {
   "cell_type": "markdown",
   "id": "a20dbecc",
   "metadata": {},
   "source": [
    "## SETS\n",
    "\n",
    "**Sets** are unordered collections of **unique** elements.\n",
    "\n",
    "Meaning there can only be one representative of the same object."
   ]
  },
  {
   "cell_type": "code",
   "execution_count": 132,
   "id": "5b966a21",
   "metadata": {},
   "outputs": [],
   "source": [
    "myset = set()"
   ]
  },
  {
   "cell_type": "code",
   "execution_count": 133,
   "id": "518cefc6",
   "metadata": {},
   "outputs": [
    {
     "data": {
      "text/plain": [
       "set()"
      ]
     },
     "execution_count": 133,
     "metadata": {},
     "output_type": "execute_result"
    }
   ],
   "source": [
    "myset"
   ]
  },
  {
   "cell_type": "code",
   "execution_count": 134,
   "id": "63c56411",
   "metadata": {},
   "outputs": [],
   "source": [
    "myset.add(1)"
   ]
  },
  {
   "cell_type": "code",
   "execution_count": 135,
   "id": "e7d24a1a",
   "metadata": {},
   "outputs": [
    {
     "data": {
      "text/plain": [
       "{1}"
      ]
     },
     "execution_count": 135,
     "metadata": {},
     "output_type": "execute_result"
    }
   ],
   "source": [
    "myset"
   ]
  },
  {
   "cell_type": "code",
   "execution_count": 136,
   "id": "2fc0d350",
   "metadata": {},
   "outputs": [],
   "source": [
    "myset.add(2)"
   ]
  },
  {
   "cell_type": "code",
   "execution_count": 137,
   "id": "91cacaa9",
   "metadata": {},
   "outputs": [
    {
     "data": {
      "text/plain": [
       "{1, 2}"
      ]
     },
     "execution_count": 137,
     "metadata": {},
     "output_type": "execute_result"
    }
   ],
   "source": [
    "myset"
   ]
  },
  {
   "cell_type": "code",
   "execution_count": 138,
   "id": "018e2819",
   "metadata": {},
   "outputs": [],
   "source": [
    "myset.add(2)"
   ]
  },
  {
   "cell_type": "code",
   "execution_count": 139,
   "id": "15222a64",
   "metadata": {},
   "outputs": [
    {
     "data": {
      "text/plain": [
       "{1, 2}"
      ]
     },
     "execution_count": 139,
     "metadata": {},
     "output_type": "execute_result"
    }
   ],
   "source": [
    "myset"
   ]
  },
  {
   "cell_type": "code",
   "execution_count": 140,
   "id": "837a1316",
   "metadata": {},
   "outputs": [],
   "source": [
    "mylist = [1,1,1,1,1,2,2,2,2,3,3,3,3]"
   ]
  },
  {
   "cell_type": "code",
   "execution_count": 141,
   "id": "7f101354",
   "metadata": {},
   "outputs": [
    {
     "data": {
      "text/plain": [
       "{1, 2, 3}"
      ]
     },
     "execution_count": 141,
     "metadata": {},
     "output_type": "execute_result"
    }
   ],
   "source": [
    "set(mylist)"
   ]
  },
  {
   "cell_type": "markdown",
   "id": "c492633c",
   "metadata": {},
   "source": [
    "## I/O with Basic Files"
   ]
  },
  {
   "cell_type": "code",
   "execution_count": 144,
   "id": "206eadc4",
   "metadata": {},
   "outputs": [
    {
     "name": "stdout",
     "output_type": "stream",
     "text": [
      "Writing myfile.txt\n"
     ]
    }
   ],
   "source": [
    "%%writefile myfile.txt\n",
    "Hello this is a text file\n",
    "this is the second line\n",
    "this is the third line"
   ]
  },
  {
   "cell_type": "code",
   "execution_count": 145,
   "id": "b159303a",
   "metadata": {},
   "outputs": [],
   "source": [
    "myfile = open('myfile.txt')"
   ]
  },
  {
   "cell_type": "code",
   "execution_count": 146,
   "id": "0d30a84a",
   "metadata": {},
   "outputs": [
    {
     "data": {
      "text/plain": [
       "'Hello this is a text file\\nthis is the second line\\nthis is the third line\\n'"
      ]
     },
     "execution_count": 146,
     "metadata": {},
     "output_type": "execute_result"
    }
   ],
   "source": [
    "myfile.read()"
   ]
  },
  {
   "cell_type": "code",
   "execution_count": 147,
   "id": "11e5c305",
   "metadata": {},
   "outputs": [
    {
     "data": {
      "text/plain": [
       "''"
      ]
     },
     "execution_count": 147,
     "metadata": {},
     "output_type": "execute_result"
    }
   ],
   "source": [
    "myfile.read()"
   ]
  },
  {
   "cell_type": "code",
   "execution_count": 148,
   "id": "e105b83e",
   "metadata": {},
   "outputs": [
    {
     "data": {
      "text/plain": [
       "0"
      ]
     },
     "execution_count": 148,
     "metadata": {},
     "output_type": "execute_result"
    }
   ],
   "source": [
    "myfile.seek(0)"
   ]
  },
  {
   "cell_type": "code",
   "execution_count": 149,
   "id": "78b4932b",
   "metadata": {},
   "outputs": [
    {
     "data": {
      "text/plain": [
       "'Hello this is a text file\\nthis is the second line\\nthis is the third line\\n'"
      ]
     },
     "execution_count": 149,
     "metadata": {},
     "output_type": "execute_result"
    }
   ],
   "source": [
    "myfile.read()"
   ]
  },
  {
   "cell_type": "code",
   "execution_count": 153,
   "id": "c0b1ab2d",
   "metadata": {},
   "outputs": [
    {
     "data": {
      "text/plain": [
       "0"
      ]
     },
     "execution_count": 153,
     "metadata": {},
     "output_type": "execute_result"
    }
   ],
   "source": [
    "myfile.seek(0)"
   ]
  },
  {
   "cell_type": "code",
   "execution_count": 151,
   "id": "f32f97d1",
   "metadata": {},
   "outputs": [],
   "source": [
    "contents = myfile.read()"
   ]
  },
  {
   "cell_type": "code",
   "execution_count": 156,
   "id": "9086d80b",
   "metadata": {},
   "outputs": [
    {
     "data": {
      "text/plain": [
       "'Hello this is a text file\\nthis is the second line\\nthis is the third line\\n'"
      ]
     },
     "execution_count": 156,
     "metadata": {},
     "output_type": "execute_result"
    }
   ],
   "source": [
    "contents"
   ]
  },
  {
   "cell_type": "code",
   "execution_count": 154,
   "id": "22bd7a1d",
   "metadata": {},
   "outputs": [
    {
     "data": {
      "text/plain": [
       "['Hello this is a text file\\n',\n",
       " 'this is the second line\\n',\n",
       " 'this is the third line\\n']"
      ]
     },
     "execution_count": 154,
     "metadata": {},
     "output_type": "execute_result"
    }
   ],
   "source": [
    "myfile.readlines()"
   ]
  },
  {
   "cell_type": "code",
   "execution_count": 155,
   "id": "7bcb6b56",
   "metadata": {},
   "outputs": [],
   "source": [
    "myfile.close()"
   ]
  },
  {
   "cell_type": "code",
   "execution_count": 157,
   "id": "ecdecf48",
   "metadata": {},
   "outputs": [],
   "source": [
    "with open('myfile.txt') as my_new_file:\n",
    "    contents = my_new_file.read()"
   ]
  },
  {
   "cell_type": "code",
   "execution_count": 158,
   "id": "8fe7d56f",
   "metadata": {},
   "outputs": [
    {
     "data": {
      "text/plain": [
       "'Hello this is a text file\\nthis is the second line\\nthis is the third line\\n'"
      ]
     },
     "execution_count": 158,
     "metadata": {},
     "output_type": "execute_result"
    }
   ],
   "source": [
    "contents"
   ]
  },
  {
   "cell_type": "code",
   "execution_count": null,
   "id": "c8ebac1e",
   "metadata": {},
   "outputs": [],
   "source": []
  }
 ],
 "metadata": {
  "kernelspec": {
   "display_name": "Python 3 (ipykernel)",
   "language": "python",
   "name": "python3"
  },
  "language_info": {
   "codemirror_mode": {
    "name": "ipython",
    "version": 3
   },
   "file_extension": ".py",
   "mimetype": "text/x-python",
   "name": "python",
   "nbconvert_exporter": "python",
   "pygments_lexer": "ipython3",
   "version": "3.9.13"
  }
 },
 "nbformat": 4,
 "nbformat_minor": 5
}
